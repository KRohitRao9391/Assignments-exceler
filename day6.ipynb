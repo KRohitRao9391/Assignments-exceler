{
 "cells": [
  {
   "cell_type": "code",
   "execution_count": 19,
   "id": "ef4c7306-302c-4599-8a1c-f8bd7bbbb5a5",
   "metadata": {},
   "outputs": [
    {
     "name": "stdout",
     "output_type": "stream",
     "text": [
      "    Name  Age Department  Salary\n",
      "0   John   28         HR   45000\n",
      "1  Alice   34         IT   60000\n",
      "\n",
      "Average Salary of Employees: 47500.0\n",
      "\n",
      "Employees older than 25:\n",
      "    Name  Age Department  Salary   Bonus\n",
      "0   John   28         HR   45000  4500.0\n",
      "1  Alice   34         IT   60000  6000.0\n",
      "3  Diana   29    Finance   50000  5000.0\n"
     ]
    }
   ],
   "source": [
    "import pandas as pd\n",
    "\n",
    "data = {\n",
    "    'Name': ['John', 'Alice', 'Bob', 'Diana'],\n",
    "    'Age': [28, 34, 23, 29],\n",
    "    'Department': ['HR', 'IT', 'Marketing', 'Finance'],\n",
    "    'Salary': [45000, 60000, 35000, 50000]\n",
    "}\n",
    "\n",
    "df = pd.DataFrame(data)\n",
    "\n",
    "print(df.head(2))\n",
    "\n",
    "df['Bonus'] = df['Salary'] * 0.10\n",
    "\n",
    "average_salary = df['Salary'].mean()\n",
    "print(\"\\nAverage Salary of Employees:\", average_salary)\n",
    "\n",
    "filtered_employees = df[df['Age'] > 25]\n",
    "print(\"\\nEmployees older than 25:\")\n",
    "print(filtered_employees)\n"
   ]
  },
  {
   "cell_type": "code",
   "execution_count": null,
   "id": "d7e4d019-73e0-40e3-807a-13d74afdeda6",
   "metadata": {},
   "outputs": [],
   "source": []
  },
  {
   "cell_type": "code",
   "execution_count": null,
   "id": "750439a3-ba38-46f9-af05-3e607f7ad6e0",
   "metadata": {},
   "outputs": [],
   "source": [
    "\n",
    "\n"
   ]
  },
  {
   "cell_type": "code",
   "execution_count": null,
   "id": "22ad07f1-c1b1-455a-bf9e-406ab165b3e2",
   "metadata": {},
   "outputs": [],
   "source": []
  },
  {
   "cell_type": "code",
   "execution_count": null,
   "id": "e2f1c769-3721-42d0-a27a-270d65a397ed",
   "metadata": {},
   "outputs": [],
   "source": []
  }
 ],
 "metadata": {
  "kernelspec": {
   "display_name": "Python [conda env:base] *",
   "language": "python",
   "name": "conda-base-py"
  },
  "language_info": {
   "codemirror_mode": {
    "name": "ipython",
    "version": 3
   },
   "file_extension": ".py",
   "mimetype": "text/x-python",
   "name": "python",
   "nbconvert_exporter": "python",
   "pygments_lexer": "ipython3",
   "version": "3.12.7"
  }
 },
 "nbformat": 4,
 "nbformat_minor": 5
}
