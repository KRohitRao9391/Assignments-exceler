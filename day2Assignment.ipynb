{
 "cells": [
  {
   "cell_type": "code",
   "execution_count": 3,
   "id": "22daf454-857f-47d3-b00a-47ff4f714292",
   "metadata": {},
   "outputs": [
    {
     "name": "stdout",
     "output_type": "stream",
     "text": [
      "List Element at index 0: 10\n",
      "List Element at index 1: 40\n",
      "List Element at index -1: 50\n",
      "\n",
      "Tuple Element at index 1: 200\n",
      "Tuple Element at index 3: 400\n",
      "Tuple Element at index -2: 400\n",
      "\n",
      "Dictionary value for key 'a': 1\n",
      "Dictionary value for key 'c': 3\n",
      "Dictionary value for key 'e': 5\n"
     ]
    }
   ],
   "source": [
    "# Creating a List with 5 elements\n",
    "my_list = [10, 20, 30, 40, 50]\n",
    "\n",
    "# Accessing elements by index in the List\n",
    "print(\"List Element at index 0:\", my_list[0])\n",
    "print(\"List Element at index 1:\", my_list[3]) \n",
    "print(\"List Element at index -1:\", my_list[-1])  \n",
    "\n",
    "# Creating a Tuple with 5 elements\n",
    "my_tuple = (100, 200, 300, 400, 500)\n",
    "\n",
    "# Accessing elements by index in the Tuple\n",
    "print(\"\\nTuple Element at index 1:\", my_tuple[1])\n",
    "print(\"Tuple Element at index 3:\", my_tuple[3])  \n",
    "print(\"Tuple Element at index -2:\", my_tuple[-2])  \n",
    "\n",
    "# Creating a Dictionary with 5 key-value pairs\n",
    "my_dict = {'a': 1, 'b': 2, 'c': 3, 'd': 4, 'e': 5}\n",
    "\n",
    "# Accessing values by keys in the Dictionary\n",
    "print(\"\\nDictionary value for key 'a':\", my_dict['a'])  \n",
    "print(\"Dictionary value for key 'c':\", my_dict['c'])  \n",
    "print(\"Dictionary value for key 'e':\", my_dict['e'])  \n"
   ]
  },
  {
   "cell_type": "code",
   "execution_count": null,
   "id": "3db6471b-97b1-4da5-9731-780596dd3071",
   "metadata": {},
   "outputs": [],
   "source": []
  }
 ],
 "metadata": {
  "kernelspec": {
   "display_name": "Python [conda env:base] *",
   "language": "python",
   "name": "conda-base-py"
  },
  "language_info": {
   "codemirror_mode": {
    "name": "ipython",
    "version": 3
   },
   "file_extension": ".py",
   "mimetype": "text/x-python",
   "name": "python",
   "nbconvert_exporter": "python",
   "pygments_lexer": "ipython3",
   "version": "3.12.7"
  }
 },
 "nbformat": 4,
 "nbformat_minor": 5
}
