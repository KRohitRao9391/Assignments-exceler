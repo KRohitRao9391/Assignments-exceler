{
 "cells": [
  {
   "cell_type": "code",
   "execution_count": 1,
   "id": "2fde05f9-25db-404a-87b8-3eaf01bf1185",
   "metadata": {},
   "outputs": [
    {
     "name": "stdout",
     "output_type": "stream",
     "text": [
      "Integer variable: 10\n",
      "Type of integer_var: <class 'int'>\n",
      "\n",
      "Float variable: 3.14\n",
      "Type of float_var: <class 'float'>\n",
      "\n",
      "String variable: Hello\n",
      "Type of string_var: <class 'str'>\n",
      "\n",
      "Boolean variable: True\n",
      "Type of boolean_var: <class 'bool'>\n"
     ]
    }
   ],
   "source": [
    "# Declare variables of different data types\n",
    "integer_var = 10\n",
    "float_var = 3.14\n",
    "string_var = \"Hello\"\n",
    "boolean_var = True\n",
    "\n",
    "\n",
    "print(\"Integer variable:\", integer_var)\n",
    "print(\"Type of integer_var:\", type(integer_var))\n",
    "\n",
    "print(\"\\nFloat variable:\", float_var)\n",
    "print(\"Type of float_var:\", type(float_var))\n",
    "\n",
    "print(\"\\nString variable:\", string_var)\n",
    "print(\"Type of string_var:\", type(string_var))\n",
    "\n",
    "print(\"\\nBoolean variable:\", boolean_var)\n",
    "print(\"Type of boolean_var:\", type(boolean_var))\n"
   ]
  },
  {
   "cell_type": "code",
   "execution_count": null,
   "id": "4ed9e324-f5f5-4182-b8e2-b1d5e1456764",
   "metadata": {},
   "outputs": [],
   "source": []
  }
 ],
 "metadata": {
  "kernelspec": {
   "display_name": "Python [conda env:base] *",
   "language": "python",
   "name": "conda-base-py"
  },
  "language_info": {
   "codemirror_mode": {
    "name": "ipython",
    "version": 3
   },
   "file_extension": ".py",
   "mimetype": "text/x-python",
   "name": "python",
   "nbconvert_exporter": "python",
   "pygments_lexer": "ipython3",
   "version": "3.12.7"
  }
 },
 "nbformat": 4,
 "nbformat_minor": 5
}
