{
 "cells": [
  {
   "cell_type": "code",
   "execution_count": 38,
   "id": "a17dd590-a318-4ab1-af9f-73093185babe",
   "metadata": {},
   "outputs": [
    {
     "name": "stdout",
     "output_type": "stream",
     "text": [
      "         Date Product Region    Sales  Profit  Quantity\n",
      "0  2023-01-02  Tablet   East  1061.81  236.12         7\n",
      "1  2023-01-06  Laptop  North  1926.07  246.34         8\n",
      "2  2023-01-03  Tablet   East  1597.99  253.17         3\n",
      "3  2023-01-20  Tablet  North  1397.99  242.23         1\n",
      "4  2023-01-04  Laptop   West   734.03  140.36         4\n",
      "             Sales      Profit   Quantity\n",
      "count    20.000000   20.000000  20.000000\n",
      "mean   1186.553000  211.533000   5.050000\n",
      "std     461.528444   66.916251   2.543826\n",
      "min     530.880000   82.160000   1.000000\n",
      "25%     774.517500  166.515000   2.750000\n",
      "50%    1104.865000  214.670000   5.000000\n",
      "75%    1571.080000  248.047500   7.250000\n",
      "max    1954.860000  364.970000   9.000000\n",
      "\n",
      "Total Sales for each Region:\n",
      "Region\n",
      "East      5818.93\n",
      "North    10449.68\n",
      "South      936.84\n",
      "West      6525.61\n",
      "Name: Sales, dtype: float64\n",
      "\n",
      "Most Sold Product:\n",
      "Tablet\n",
      "\n",
      "Average Profit Margin for each Product:\n",
      "Product\n",
      "Keyboard      20.080696\n",
      "Laptop        17.112734\n",
      "Monitor       15.134989\n",
      "Smartphone    23.703647\n",
      "Tablet        19.955758\n",
      "Name: Profit Margin, dtype: float64\n"
     ]
    }
   ],
   "source": [
    "import pandas as pd\n",
    "\n",
    "df = pd.read_csv(r\"C:\\Users\\raosu\\Downloads\\Day_7_sales_data.csv\")\n",
    "\n",
    "print(df.head(5))\n",
    "\n",
    "print(df.describe())\n",
    "\n",
    "total_sales_per_region = df.groupby('Region')['Sales'].sum()\n",
    "print(\"\\nTotal Sales for each Region:\")\n",
    "print(total_sales_per_region)\n",
    "\n",
    "most_sold_product = df.groupby('Product')['Quantity'].sum().idxmax()\n",
    "print(\"\\nMost Sold Product:\")\n",
    "print(most_sold_product)\n",
    "\n",
    "df['Profit Margin'] = (df['Profit'] / df['Sales']) * 100\n",
    "average_profit_margin_per_product = df.groupby('Product')['Profit Margin'].mean()\n",
    "print(\"\\nAverage Profit Margin for each Product:\")\n",
    "print(average_profit_margin_per_product)\n"
   ]
  },
  {
   "cell_type": "code",
   "execution_count": null,
   "id": "98c63aa9-469b-4a3f-b426-ab3d35f761e9",
   "metadata": {},
   "outputs": [],
   "source": []
  }
 ],
 "metadata": {
  "kernelspec": {
   "display_name": "Python [conda env:base] *",
   "language": "python",
   "name": "conda-base-py"
  },
  "language_info": {
   "codemirror_mode": {
    "name": "ipython",
    "version": 3
   },
   "file_extension": ".py",
   "mimetype": "text/x-python",
   "name": "python",
   "nbconvert_exporter": "python",
   "pygments_lexer": "ipython3",
   "version": "3.12.7"
  }
 },
 "nbformat": 4,
 "nbformat_minor": 5
}
